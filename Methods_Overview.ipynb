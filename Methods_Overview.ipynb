{
    "cells": [
        {
            "cell_type": "markdown",
            "metadata": {},
            "source": [
                "### by APM Research Lab\n",
                "\n",
                "**Methods are listed here in the order they are calculated in Notebook_1 and Notebook_2.**\n"
            ]
        },
        {
            "cell_type": "code",
            "execution_count": null,
            "metadata": {},
            "outputs": [],
            "source": [
                "## Set WD, Load libraries, define \"not in\" function, any NA function, load data\n",
                "library(tidyr)\n",
                "library(dplyr)\n",
                "library(ggplot2)\n",
                "library(reshape2)\n",
                "library(lubridate)\n",
                "library(stringr)\n",
                "library(plyr)\n",
                "library(readxl)\n",
                "library(plotly)\n",
                "library(mapproj)\n",
                "library(fiftystater)\n",
                "library(readr)\n",
                "\n",
                "`%!in%` <- Negate(`%in%`)\n",
                "\n",
                "not_all_na <- function(x) any(!is.na(x))\n",
                "\n",
                "setwd(\"/Users/egawthrop/Library/CloudStorage/OneDrive-APMG/coc-for-git\")\n",
                "\n",
                "load(\"NB1.Rdata\")\n",
                "load(\"NB2.Rdata\")\n"
            ]
        },
        {
            "cell_type": "markdown",
            "metadata": {},
            "source": [
                "## Notebook 1\n",
                "\n",
                "**Metrics over time since the start of the COVID-19 pandemic** (Charts 1, 2, 4 and 5)\n",
                "\n",
                "### CHART 1\n",
                "\n",
                "**Monthly deaths count time series for US combined, by race/ethnicity group**\n",
                "\n",
                "Data downloaded:\n",
                "\n",
                "-   For mortality counts over time and for crude rates over time MONTHLY/NATIONAL - <https://data.cdc.gov/NCHS/Provisional-COVID-19-Deaths-Distribution-of-Deaths/pj7m-y5uh>\n",
                "\n",
                "Looks like this raw (preview using 10 random rows):\n"
            ]
        },
        {
            "cell_type": "code",
            "execution_count": null,
            "metadata": {},
            "outputs": [],
            "source": [
                "slice_sample(df, n=10)\n",
                "\n"
            ]
        },
        {
            "cell_type": "markdown",
            "metadata": {},
            "source": [
                "Processed in Notebook 1:\n",
                "\n",
                "-   Filtered such that \"Group = By Month\", \"State = United States\", and \"Indicator = Count of COVID-19 deaths\"\n",
                "\n",
                "-   Race/ethnicity names shortened for consistent labeling/ease of reading\n",
                "\n",
                "-   Column created for year-month for ease of use in chart\n",
                "\n",
                "-   Added column with all races combined for US totals\n",
                "\n",
                "-   Selected just columns needed for chart (year-month and the 7 race/ethnicity groups)\n",
                "\n",
                "Ultimate format - preview of first 10 rows:\n"
            ]
        },
        {
            "cell_type": "code",
            "execution_count": null,
            "metadata": {},
            "outputs": [],
            "source": [
                "head(chart_1_export, 10)\n",
                "\n"
            ]
        },
        {
            "cell_type": "markdown",
            "metadata": {},
            "source": [
                "### CHART 2\n",
                "\n",
                "**Monthly crude rates over time, adding in each month for cumulative rates, for US total**\n",
                "\n",
                "Data downloaded\n",
                "\n",
                "-   For national populations by race, all ages combined, 2020 Census via CDC WONDER - <https://wonder.cdc.gov/controller/saved/D170/D278F683>\n",
                "\n",
                "-   Also uses mortality data; same data as for Chart 1.\n",
                "\n",
                "Population data looks like this raw (preview using first ten rows):\n"
            ]
        },
        {
            "cell_type": "code",
            "execution_count": null,
            "metadata": {},
            "outputs": [],
            "source": [
                "head(df2, n=10)\n",
                "\n"
            ]
        },
        {
            "cell_type": "markdown",
            "metadata": {},
            "source": [
                "Processed in Notebook 1\n",
                "\n",
                "-   Filtered population data for just the types of race/ethnicity groups needed (Hispanic, Non-Hispanic Black, Non-Hispanic White, Non-Hispanic Native American, Non-Hispanic Pacific Islander, Non-Hispanic Asian), and renamed into simplified names\n",
                "\n",
                "-   Merged population data with mortality data\n",
                "\n",
                "-   Calculated cumulative deaths by month by adding each month to the previous month's cumulative total\n",
                "\n",
                "-   Calculated cumulative death rates by month by dividing monthly cumulative deaths per group over their respective populations and multiplying by 100,000\n",
                "\n",
                "-   Saved full data for combining with state quarterly data for Chart 5 later\n",
                "\n",
                "-   Selected just columns needed for chart (year-month and the cumulative monthly rates for the 7 race/ethnicity groups)\n",
                "\n",
                "Ultimate format - preview of first 10 rows:\n"
            ]
        },
        {
            "cell_type": "code",
            "execution_count": null,
            "metadata": {},
            "outputs": [],
            "source": [
                "head(chart_2_export, 10)\n",
                "\n"
            ]
        },
        {
            "cell_type": "markdown",
            "metadata": {},
            "source": [
                "### CHART 4\n",
                "\n",
                "**Quarterly crude rates over time, adding together each month for cumulative rates, for US states + Monthly crude rates over time, adding together each month for cumulative rates, for US total (from Chart 2)**\n",
                "\n",
                "Data downloaded:\n",
                "\n",
                "-   For state-level populations by race, all ages combined, 2020 Census via CDC WONDER - <https://wonder.cdc.gov/controller/saved/D170/D279F330>\n",
                "\n",
                "-   For counts over time and for crude rates over time QUARTERLY/STATES - <https://data.cdc.gov/NCHS/AH-Quarterly-Excess-Deaths-by-State-Sex-Age-and-Ra/jqg8-ycmh>\n",
                "\n",
                "<!-- -->\n",
                "\n",
                "-   Also uses Chart 2 data for monthly/national statistics.\n",
                "\n",
                "Population data looks like this before processing:\n"
            ]
        },
        {
            "cell_type": "code",
            "execution_count": null,
            "metadata": {},
            "outputs": [],
            "source": [
                "head(df3, n=10)\n",
                "\n"
            ]
        },
        {
            "cell_type": "markdown",
            "metadata": {},
            "source": [
                "Mortality data looks like this:\n",
                "\n"
            ]
        },
        {
            "cell_type": "code",
            "execution_count": null,
            "metadata": {},
            "outputs": [],
            "source": [
                "slice_sample(df5, n=10)\n",
                "\n"
            ]
        },
        {
            "cell_type": "markdown",
            "metadata": {},
            "source": [
                "Processed in Notebook 1\n",
                "\n",
                "-   Filtered mortality data to just include the cumulative quarterly COVID death counts data where available (e.g. \"Cumulative from 2020, Quarter 2 through 2021, Quarter 4\",) as well as Quarter 1 and Quarter 2 for 2020 data separately, as those did not have a cumulative figure. Also filtered such that AgeGroup = All Ages, Sex = All Sexes, and Year = 2020-2022.\n",
                "\n",
                "-   Filtered population data for just the types of race/ethnicity groups needed (Hispanic, Non-Hispanic Black, Non-Hispanic White, Non-Hispanic Native American, Non-Hispanic Pacific Islander, Non-Hispanic Asian), and renamed into simplified names. Combined with US totals population data as compiled for Chart 2.\n",
                "\n",
                "-   Merged population data with mortality data\n",
                "\n",
                "-   There are ready-made cumulative data points starting with Q2-Q3 of 2020 (then Q2-Q4 of 2020, then Q2 2020 - Q1 2021, etc. Added Q1 deaths to totals from rest of time periods to get true cumulative figures by quarter\n",
                "\n",
                "-   New York City and the rest of New York state are reportedly separately from CDC - so these are combined into true totals for New York state\n",
                "\n",
                "-   Calculated cumulative death rates by quarter by dividing cumulative deaths per group over their respective population\n",
                "\n",
                "-   Combined quarterly state data with national monthly data, using \"End.Date\" as a common date-time column\n",
                "\n",
                "-   Selected just columns needed for chart (year-month and the cumulative monthly rates for the 7 race/ethnicity groups)\n"
            ]
        },
        {
            "cell_type": "code",
            "execution_count": null,
            "metadata": {},
            "outputs": [],
            "source": [
                "slice_sample(chart_4_Q_export, n=10)\n",
                "\n"
            ]
        },
        {
            "cell_type": "markdown",
            "metadata": {},
            "source": [
                "### CHART 5\n",
                "\n",
                "**Quarterly death counts over time, adding together each month for cumulative counts, for US states + Monthly death counts over time, adding together each month for cumulative counts, for US total (from Chart 2)**\n",
                "\n",
                "Data downloaded:\n",
                "\n",
                "-   Uses data created in making Chart 2/Chart 4, but selects cumulative counts instead of rates to export\n",
                "\n",
                "Processed in Notebook 1\n"
            ]
        },
        {
            "cell_type": "code",
            "execution_count": null,
            "metadata": {},
            "outputs": [],
            "source": [
                "slice_sample(chart_5_export, n=10)\n",
                "\n"
            ]
        },
        {
            "cell_type": "markdown",
            "metadata": {},
            "source": [
                "------------------------------------------------------------------------\n",
                "\n",
                "## Notebook 2\n",
                "\n",
                "**Cumulative numbers over the course of the COVID-19 pandemic** (Chart 7, Key Findings, Chart 6, Chart 3 and Maps)\n",
                "\n",
                "### CHART 7\n",
                "\n",
                "**Cumulative death counts for entire pandemic**\n",
                "\n",
                "Data downloaded:\n",
                "\n",
                "-   For total counts and cumulative crude rates and age adjusted rates --- <https://data.cdc.gov/NCHS/Distribution-of-COVID-19-Deaths-and-Populations-by/jwta-jxbg>\n"
            ]
        },
        {
            "cell_type": "code",
            "execution_count": null,
            "metadata": {},
            "outputs": [],
            "source": [
                "slice_sample(df4, n=10)\n",
                "\n"
            ]
        },
        {
            "cell_type": "markdown",
            "metadata": {},
            "source": [
                "Processed in Notebook 2\n",
                "\n",
                "-   Filtered for all ages (un-adjusted), selected variables needed (state, race/ethnicity, count of deaths), and renamed race/ethnicity groups\n",
                "\n",
                "-   New York City and the rest of New York state are reportedly separately from CDC - so these are combined into true totals for New York state\n",
                "\n",
                "-   Selected variables needed (End Date, State, Race/Ethnicity and Total Deaths) and exported\n"
            ]
        },
        {
            "cell_type": "code",
            "execution_count": null,
            "metadata": {},
            "outputs": [],
            "source": [
                "slice_sample(chart_7_export, n=10)\n",
                "\n"
            ]
        },
        {
            "cell_type": "markdown",
            "metadata": {},
            "source": [
                "### KEY FINDINGS\n",
                "\n",
                "**Cumulative stats to date, for US total**\n",
                "\n",
                "Data downloaded:\n",
                "\n",
                "-   Same mortality data as for chart 7, same population data as for chart 2\n",
                "\n",
                "Processed in Notebook 2\n",
                "\n",
                "-   Combined mortality data from chart 7 with US total population data, processed the same as it was for chart 2.\n",
                "\n",
                "-   Calculated crude rates by dividing count of death per population and multiplying by 100,000, and calculated one in X number of people died by dividing population by count of deaths.\n",
                "\n",
                "-   Extracted data points and wrote text file.\n"
            ]
        },
        {
            "cell_type": "code",
            "execution_count": null,
            "metadata": {},
            "outputs": [],
            "source": [
                "text\n",
                "\n"
            ]
        },
        {
            "cell_type": "markdown",
            "metadata": {},
            "source": [
                "### CHART 6\n",
                "\n",
                "**Cumulative crude rates, by state and for US total + Age adjusted rates, by state and for US total**\n",
                "\n",
                "Date downloaded:\n",
                "\n",
                "-   For age adjustment, national population by age groups, 2020 Census via CDC WONDER -\n",
                "\n",
                "    -   Non Hispanic: <https://wonder.cdc.gov/controller/saved/D170/D279F896>\n",
                "\n",
                "    -   Hispanic: <https://wonder.cdc.gov/controller/saved/D170/D279F900>\n",
                "\n",
                "Non Hispanic as example:\n"
            ]
        },
        {
            "cell_type": "code",
            "execution_count": null,
            "metadata": {},
            "outputs": [],
            "source": [
                "slice_sample(df6, n=10)\n",
                "\n"
            ]
        },
        {
            "cell_type": "markdown",
            "metadata": {},
            "source": [
                "-   For age adjustment, state populations by age groups, 2020 Census via CDC WONDER -\n",
                "\n",
                "    -   Non hispanic: <https://wonder.cdc.gov/controller/saved/D170/D279F915>\n",
                "\n",
                "    -   Hispanic: <https://wonder.cdc.gov/controller/saved/D170/D279F916>\n",
                "\n",
                "Hispanic as example:\n"
            ]
        },
        {
            "cell_type": "code",
            "execution_count": null,
            "metadata": {},
            "outputs": [],
            "source": [
                "slice_sample(df9, n=10)\n",
                "\n"
            ]
        },
        {
            "cell_type": "markdown",
            "metadata": {},
            "source": [
                "-   Imported mortality data from Chart 7\n",
                "\n",
                "-   Same state population data as Chart 4\n",
                "\n",
                "Processed in Notebook 2\n",
                "\n",
                "-   **Crude rates:**\n",
                "\n",
                "    -   Combined mortality data from Chart 7 with population data as also calculated in Chart 4 to get mortality rates per 100,000 for each race/ethnicity group in each state\n",
                "\n",
                "    -   Saved as dataframe\n",
                "\n",
                "-   **Indirect age adjustment**\n",
                "\n",
                "    -   See [tutorial here](http://papp.iussp.org/sessions/papp101_s06/PAPP101_s06_010_010.html) on age adjustments, as well as [this helpful video](https://www.youtube.com/watch?v=DOEstU62D4w)\n",
                "\n",
                "    -   First calculated crude COVID-19 mortality rates per age bracket, at the national level for all race/ethnicity groups combined - this is the \"standard\" mortality rate per age group\n",
                "\n",
                "        -   Loaded population data separated by age groups (hispanic and non-hispanic first loaded separately then combined).\n",
                "\n",
                "        -   Combined population data to get age groupings used in mortality data - 0-24, 25-34, 35-44, 45-54, 55-64, 65-74, 75-84, 85+\n",
                "\n",
                "        -   Loaded mortality data -- same underlying data as for chart 7, but instead of all groups combined we want the dis-aggregated age groupings, for the US as a whole\n",
                "\n",
                "        -   Summed mortality data from each race/ethnicity group to get the combined mortality rate per age bracket (i.e. added together Latino, White, Black, Asian, Pacific Islander and Indigenous deaths from the 55-64 age bracket to get the total deaths from this age bracket, and repeated for the other age brackets). This become the 'crude standard' used to calculate 'estimated deaths'.\n",
                "\n",
                "    -   Indirect age adjustment - loading data (these steps for national and state level data):\n",
                "\n",
                "        -   Loaded population data separated by age groups (hispanic and non-hispanic first loaded separately then combined).\n",
                "\n",
                "        -   Combined population data to get age groupings, by race/ethnicity group and for each state and nationally, as used in mortality data - 0-24, 25-34, 35-44, 45-54, 55-64, 65-74, 75-84, 85+\n",
                "\n",
                "    -   Indirect age adjustment - calculation:\n",
                "\n",
                "        -   For all states and nationally, calculated estimated deaths per race and age group by multiplying the 'crude standard' by the actual population in each race/age grouping. This gives an estimate of how many deaths would be expected in a race/age grouping if the mortality rate were the same as at the national level at that age grouping, for all races.\n",
                "\n",
                "        -   Added together estimated death rates of age groups, for each race group separately, for all states/national (e.g. add together death rates by age group for all Hispanic people in Iowa to get a total estimated death rate for Hispanics in Iowa).\n",
                "\n",
                "        -   Merged with data on actual deaths from chart_7 file and calculate standardized mortality ratio (SMR), which is the ratio of actual deaths by race over estimated deaths by race (e.g. actual rate of Hispanic Iowans who died over the the estimated rate of Hispanic Iowans who died).\n",
                "\n",
                "        -   Multiplied each racial group's SMR by the overall national crude rate of deaths to get age adjusted mortality by race.\n",
                "\n",
                "-   **Direct age adjustment**\n",
                "\n",
                "    -   Direct age adjustment - loading data:\n",
                "\n",
                "        -   Loaded mortality data -- same underlying data as for chart 7, but instead of all groups combined we want the dis-aggregated age groupings, for the US as a whole and for states separately\n",
                "\n",
                "        -   New York City and the rest of New York state are reportedly separately from CDC - so these are combined into true totals for New York state\n",
                "\n",
                "        -   Filtered for just the race/ethnicity groups by state for which there are no NAs - meaning every age bracket within a race/state group must have either 0 deaths or more than 9 deaths.\n",
                "\n",
                "        -   Merged with population data for the remaining race/age/state groupings\n",
                "\n",
                "    -   Direct age adjustment - calculation:\n",
                "\n",
                "        -   Calculated the crude mortality rate for each race/age/state grouping\n",
                "\n",
                "        -   Calculated the population weighting for each age grouping (based on population of national age groups divided by total national population)\n",
                "\n",
                "        -   Multiplied the crude mortality rate for each race/age/state grouping (i.e. a row in the below preview) by the population weighting of the age group nationally, this gives a \"weighted deaths\" measure for that race/age/state\n",
                "\n",
                "        ```{r error = TRUE}\n",
                "        head(age_adjusted_direct, n=10)\n",
                "        ```\n",
                "\n",
                "        -   Summed the weighted deaths for each race/state to get the direct age adjusted rate for a race and state\n",
                "\n",
                "-   Exporting\n",
                "\n",
                "    -   Combined crude, indirect age adjusted and direct age adjusted rates into one dataframe\n",
                "\n",
                "    -   Created a variable for a final age adjusted rate, using direct where available and indirect otherwise. Remove indirect age adjusted rates where it's based on less than 200 deaths, a threshold we established based on a sensitivity analysis suggesting decreasing accuracy in groups with fewer reported deaths.\n",
                "\n",
                "    -   Created a variable indicating whether direct or indirect method was used as the final age adjusted rate\n",
                "\n",
                "    -   Selected just relevant variables for chart 6 and export. Removed 'other' race/ethnicity since population data not available for this racial definition. Made data 'wide' for viz purposes.\n"
            ]
        },
        {
            "cell_type": "code",
            "execution_count": null,
            "metadata": {},
            "outputs": [],
            "source": [
                "slice_sample(chart_6_export, n=10)\n",
                "\n"
            ]
        },
        {
            "cell_type": "markdown",
            "metadata": {},
            "source": [
                "### CHART 3\n",
                "\n",
                "**Age-adjusted rates, for US total**\n",
                "\n",
                "Use same data calculated in Chart 6, just export US national numbers only. Uses direct age adjusted calculation.\n"
            ]
        },
        {
            "cell_type": "code",
            "execution_count": null,
            "metadata": {},
            "outputs": [],
            "source": [
                "chart_3_export\n",
                "\n"
            ]
        },
        {
            "cell_type": "markdown",
            "metadata": {},
            "source": [
                "### MAPS\n",
                "\n",
                "**Maps with age adjusted rates + number of deaths on hover**\n",
                "\n",
                "Data downloaded:\n",
                "\n",
                "-   Used chart 6 data\n",
                "\n",
                "Processed in Notebook 2\n",
                "\n",
                "-   Filter data to create different dataset for each race/ethnicity group\n",
                "\n",
                "-   Export\n",
                "\n",
                "Example from Hispanic dataset\n"
            ]
        },
        {
            "cell_type": "code",
            "execution_count": null,
            "metadata": {},
            "outputs": [],
            "source": [
                "slice_sample(hispanic, n=10)\n",
                "\n"
            ]
        },
        {
            "cell_type": "markdown",
            "metadata": {},
            "source": [
                "\n",
                "\\\n"
            ]
        }
    ],
    "metadata": {
        "anaconda-cloud": "",
        "kernelspec": {
            "display_name": "R",
            "langauge": "R",
            "name": "ir"
        },
        "language_info": {
            "codemirror_mode": "r",
            "file_extension": ".r",
            "mimetype": "text/x-r-source",
            "name": "R",
            "pygments_lexer": "r",
            "version": "3.4.1"
        }
    },
    "nbformat": 4,
    "nbformat_minor": 1
}
